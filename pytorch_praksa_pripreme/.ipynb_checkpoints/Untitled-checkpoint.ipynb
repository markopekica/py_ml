{
 "cells": [
  {
   "cell_type": "markdown",
   "metadata": {},
   "source": [
    "# From medium\n",
    "\n",
    "\n",
    "- [Semantic Segmentation: The easiest possible implementation in code!](https://garimanishad.medium.com/semantic-segmentation-the-easiest-possible-implementation-in-code-193bf27b86b8)\n",
    "\n",
    "- [Semantic Image Segmentation with DeepLabv3-pytorch](https://towardsdatascience.com/semantic-image-segmentation-with-deeplabv3-pytorch-989319a9a4fb)\n",
    "\n",
    "- [Training Yolo for Object Detection in PyTorch with Your Custom Dataset — The Simple Way](https://towardsdatascience.com/training-yolo-for-object-detection-in-pytorch-with-your-custom-dataset-the-simple-way-1aa6f56cf7d9)\n",
    "    - [izgleda zanimljivo na prvi pogled](http://www.cynet.ai/subt)\n",
    "    - [How to Train an Image Classifier in PyTorch and use it to Perform Basic Inference on Single Images](https://towardsdatascience.com/how-to-train-an-image-classifier-in-pytorch-and-use-it-to-perform-basic-inference-on-single-images-99465a1e9bf5)\n",
    "\n",
    "- [Mask R-CNN for segmentation using PyTorch](https://bjornkhansen95.medium.com/mask-r-cnn-for-segmentation-using-pytorch-8bbfa8511883)\n",
    "\n",
    "- [The best approach to semantic segmentation of biomedical images](https://towardsdatascience.com/the-best-approach-to-semantic-segmentation-of-biomedical-images-bbe4fd78733f)\n"
   ]
  },
  {
   "cell_type": "code",
   "execution_count": null,
   "metadata": {},
   "outputs": [],
   "source": []
  }
 ],
 "metadata": {
  "kernelspec": {
   "display_name": "Python 3",
   "language": "python",
   "name": "python3"
  },
  "language_info": {
   "codemirror_mode": {
    "name": "ipython",
    "version": 3
   },
   "file_extension": ".py",
   "mimetype": "text/x-python",
   "name": "python",
   "nbconvert_exporter": "python",
   "pygments_lexer": "ipython3",
   "version": "3.7.6"
  }
 },
 "nbformat": 4,
 "nbformat_minor": 4
}
