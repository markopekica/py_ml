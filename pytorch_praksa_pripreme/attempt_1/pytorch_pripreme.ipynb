{
 "cells": [
  {
   "cell_type": "markdown",
   "metadata": {},
   "source": [
    "# Python\n",
    "\n",
    "[Python doc](https://www.python.org/doc/)\n",
    "\n",
    "Prošao sam dobar dio ovoga: freeCodeCamp - [Introduction to Python for Everybody](https://www.freecodecamp.org/learn/scientific-computing-with-python/python-for-everybody/)   \n",
    "[python for everybody - github](https://github.com/csev/py4e)\n",
    "\n",
    "\n",
    "Python je ok. Prošle godine smo imali projekt na kolegiju: Baze podataka II. Bilo je potrebno napraviti aplikaciju za vođenje dijela biznisa (recepcija u Hotelu u našem slućaju). Projekt je rađen u timu a python je odabran kao jezik za razvoj aplikacije. Pisao sam python kod sa integriranim SQL (PostgreSQL) naredbama u nekim funkcijama (u to vrijeme sam koristio linux); išlo je. Relativno lako sam se snalazio iako nisam imao jaku bazu u python jeziku."
   ]
  },
  {
   "cell_type": "code",
   "execution_count": null,
   "metadata": {},
   "outputs": [],
   "source": [
    "words = 'His e-mail is q-lar@freecodecamp.org'\n",
    "pieces = words.split()\n",
    "print(pieces)\n",
    "parts = pieces[3].split('-')\n",
    "print(parts)\n",
    "n = parts[1]\n",
    "print(n)"
   ]
  },
  {
   "cell_type": "markdown",
   "metadata": {},
   "source": [
    "- web scraping, web spidering"
   ]
  },
  {
   "cell_type": "code",
   "execution_count": null,
   "metadata": {},
   "outputs": [],
   "source": [
    "# Networking: Using urllib in Python\n",
    "\n",
    "import urllib.request\n",
    "fhand = urllib.request.urlopen('http://data.pr4e.org/romeo.txt')\n",
    "for line in fhand:\n",
    "    print(line.decode().strip())"
   ]
  },
  {
   "cell_type": "markdown",
   "metadata": {},
   "source": [
    "#### Networking: Web Scraping with Python\n",
    "\n",
    "- [beautiful soup](https://www.crummy.com/software/BeautifulSoup/)\n",
    "- python for 4body course - vjezbe/primjeri\n",
    "    - [socket 1](https://www.youtube.com/watch?v=dWLdI143W-g)\n",
    "    - [urllib](https://www.youtube.com/watch?v=8yis2DvbBkI)\n",
    "    - [urllinks](https://www.youtube.com/watch?v=g9flPDG9nnY)\n",
    "\n",
    "<br>\n",
    "\n",
    "#### Visualizing Data with Python\n",
    "\n",
    "![](all_together.png)"
   ]
  },
  {
   "cell_type": "markdown",
   "metadata": {},
   "source": [
    "## Numpy\n",
    "\n",
    "    'The fundamental package for scientific computing with Python'\n",
    "\n",
    "Nakon prve godine sam po ljeti našao neke lekcije za python for statistics (mislim na codecademy); u nadi da će mi to pomoći da prođem statistiku (nije, išao sam i na instrukcije), ali probudilo je interes i bilo mi je zabavno.\n",
    "![codecademy - python for statistics](codecademy_python_for_stats.png)\n",
    "\n",
    "- [NumPy v1.19 Manual](https://numpy.org/doc/stable/)"
   ]
  },
  {
   "cell_type": "code",
   "execution_count": null,
   "metadata": {},
   "outputs": [],
   "source": [
    "import numpy as np\n",
    "np.zeros(2)"
   ]
  },
  {
   "cell_type": "markdown",
   "metadata": {},
   "source": [
    "In NumPy, dimensions are called axes. This means that if you have a 2D array that looks like this:\n",
    "\n",
    "    [[0., 0., 0.],\n",
    "     [1., 1., 1.]]\n",
    "     \n",
    "Your array has 2 axes. The first axis has a length of 2 and the second axis has a length of 3.\n",
    "\n",
    "\n",
    "#### Create a basic array"
   ]
  },
  {
   "cell_type": "code",
   "execution_count": null,
   "metadata": {},
   "outputs": [],
   "source": [
    "np.arange(4)\n",
    "\n",
    "# evenly spaced intervals. To do this, you will specify the \n",
    "#   first number\n",
    "#   last number\n",
    "#   and the step size\n",
    "np.arange(2, 9, 2)\n",
    "\n",
    "# an array with values that are spaced linearly in a specified interval\n",
    "np.linspace(0, 224, num=100)\n",
    "# fino, fino\n",
    "\n",
    "# specifying a data type\n",
    "# x = np.ones(4, dtype=np.int64)"
   ]
  },
  {
   "cell_type": "markdown",
   "metadata": {},
   "source": [
    "#### Add, remove, sort\n",
    "\n",
    "- **np.sort()**\n",
    "    - You can specify the axis, kind, and order when you call the function\n",
    "    - returns a sorted copy of an array\n",
    "- **np.concatenate()**"
   ]
  },
  {
   "cell_type": "code",
   "execution_count": null,
   "metadata": {},
   "outputs": [],
   "source": [
    "x = np.array([[1, 2], [3, 4]])\n",
    "y = np.array([[5, 6], [1, 1]])\n",
    "np.concatenate((x, y), axis=0)"
   ]
  },
  {
   "cell_type": "code",
   "execution_count": null,
   "metadata": {},
   "outputs": [],
   "source": [
    "# help(max)\n",
    "max?"
   ]
  },
  {
   "cell_type": "code",
   "execution_count": null,
   "metadata": {},
   "outputs": [],
   "source": [
    "output = np.ones((24, 24))\n",
    "print(output)\n",
    "\n",
    "z = np.zeros((4, 4))\n",
    "z[1, 2] = z[2, 1] = z[2, 2] = z[1, 1] = 5\n",
    "print(z)\n",
    "\n",
    "output[10:14, 10:14] = z\n",
    "\n",
    "print(output)"
   ]
  },
  {
   "cell_type": "code",
   "execution_count": null,
   "metadata": {},
   "outputs": [],
   "source": [
    "output = np.zeros((7,7))\n",
    "\n",
    "z = np.ones((5, 5))\n",
    "z[2, 2] = 5\n",
    "\n",
    "output[1:-1, 1:-1] = z\n",
    "\n",
    "print(output)"
   ]
  },
  {
   "cell_type": "code",
   "execution_count": null,
   "metadata": {},
   "outputs": [],
   "source": [
    "a = np.array([1, 2, 3, 4, 5])\n",
    "print(a)\n",
    "b = a\n",
    "print(b)\n",
    "b[2] = 20\n",
    "print(a)\n",
    "# weird\n",
    "# b is literally = a\n",
    "# two pointers for the same thing"
   ]
  },
  {
   "cell_type": "code",
   "execution_count": null,
   "metadata": {},
   "outputs": [],
   "source": [
    "a = np.array(([1, 2, 3, 4, 5], [6, 7, 8, 9, 10]))\n",
    "print(a)\n",
    "b = np.max(a, axis=1).sum()    # najveci od zbrojeva stupaca\n",
    "print(b)"
   ]
  },
  {
   "cell_type": "markdown",
   "metadata": {},
   "source": [
    "## [Pytorch](https://pytorch.org/)\n",
    "\n",
    "    'PyTorch is an optimized tensor library for deep learning using GPUs and CPUs.'\n",
    "\n",
    "- [PYTORCH DOCUMENTATION](https://pytorch.org/docs/stable/index.html)\n",
    "    - dokumentacija je malo 'teška'\n",
    "\n",
    "- [tutorials](https://pytorch.org/tutorials/)\n",
    "\n",
    "\n"
   ]
  },
  {
   "cell_type": "code",
   "execution_count": null,
   "metadata": {},
   "outputs": [],
   "source": [
    "import torch\n",
    "x = torch.rand(5, 3)\n",
    "print(x)"
   ]
  },
  {
   "cell_type": "markdown",
   "metadata": {},
   "source": [
    "**Tensors** are a specialized data structure that are very similar to arrays and matrices. In PyTorch, we use tensors to encode the inputs and outputs of a model, as well as the model’s parameters.\n",
    "- can be initialized in various ways"
   ]
  },
  {
   "cell_type": "code",
   "execution_count": null,
   "metadata": {},
   "outputs": [],
   "source": [
    "# created directly from data\n",
    "data = [[1, 2],[3, 4]]\n",
    "x_data = torch.tensor(data)"
   ]
  },
  {
   "cell_type": "code",
   "execution_count": null,
   "metadata": {},
   "outputs": [],
   "source": [
    "# created from NumPy array\n",
    "np_array = np.array(data)\n",
    "x_np = torch.from_numpy(np_array)"
   ]
  },
  {
   "cell_type": "code",
   "execution_count": null,
   "metadata": {},
   "outputs": [],
   "source": [
    "x_ones = torch.ones_like(x_data) # retains the properties of x_data\n",
    "print(f\"Ones Tensor: \\n {x_ones} \\n\")\n",
    "\n",
    "x_rand = torch.rand_like(x_data, dtype=torch.float) # overrides the datatype of x_data\n",
    "print(f\"Random Tensor: \\n {x_rand} \\n\")\n",
    "\n",
    "# why this printed :'(\n",
    "# np.ones() ha ha"
   ]
  },
  {
   "cell_type": "code",
   "execution_count": null,
   "metadata": {},
   "outputs": [],
   "source": [
    "# -*- coding: utf-8 -*-\n",
    "import numpy as np\n",
    "import math\n",
    "\n",
    "# Create random input and output data\n",
    "x = np.linspace(-math.pi, math.pi, 2000)\n",
    "y = np.sin(x)\n",
    "\n",
    "# Randomly initialize weights\n",
    "a = np.random.randn()\n",
    "b = np.random.randn()\n",
    "c = np.random.randn()\n",
    "d = np.random.randn()\n",
    "\n",
    "learning_rate = 1e-6\n",
    "for t in range(2000):\n",
    "    # Forward pass: compute predicted y\n",
    "    # y = a + b x + c x^2 + d x^3\n",
    "    y_pred = a + b * x + c * x ** 2 + d * x ** 3\n",
    "\n",
    "    # Compute and print loss\n",
    "    loss = np.square(y_pred - y).sum()\n",
    "    if t % 100 == 99:\n",
    "        print(t, loss)\n",
    "\n",
    "    # Backprop to compute gradients of a, b, c, d with respect to loss\n",
    "    grad_y_pred = 2.0 * (y_pred - y)\n",
    "    grad_a = grad_y_pred.sum()\n",
    "    grad_b = (grad_y_pred * x).sum()\n",
    "    grad_c = (grad_y_pred * x ** 2).sum()\n",
    "    grad_d = (grad_y_pred * x ** 3).sum()\n",
    "\n",
    "    # Update weights\n",
    "    a -= learning_rate * grad_a\n",
    "    b -= learning_rate * grad_b\n",
    "    c -= learning_rate * grad_c\n",
    "    d -= learning_rate * grad_d\n",
    "\n",
    "print(f'Result: y = {a} + {b} x + {c} x^2 + {d} x^3')"
   ]
  },
  {
   "cell_type": "markdown",
   "metadata": {},
   "source": [
    "Pa, Je li prikladno da ovo ucim sad? Ako ne, kad je? Ova zadnja čelija me nikako nije ohrabrila a na našem faksu AI je za 5. godinu..\n",
    "\n",
    "#### Tensors\n",
    "- [ovdje](https://youtu.be/f5liqUk0ZTw) nesto kao klika na 7 min\n",
    "- pricamo li o istim tensorima, [MIT - intro to tensors](https://youtu.be/TiHHz3sKDbY)?\n",
    "\n",
    "\n",
    "<br>\n",
    "\n",
    "U fast.ai lekcijama kažu da koriste nešto kao top-down tehniku podučavanja. Kaže da je bitno da naučimo koristiti nešto; a detalji poput zašto to mogu tako koristiti i kako točno radi se uče po putu. To zvuči ohrabrujuće."
   ]
  },
  {
   "cell_type": "markdown",
   "metadata": {},
   "source": [
    "### fast.ai\n",
    "\n",
    "(Ovo sam iskopao pri samom početku istraživanja ali sam probao nekako smisleno složiti dokument)\n",
    "\n",
    "Kaze [Jeremy Howard: Deep Learning Frameworks - TensorFlow, PyTorch, fast.ai | AI Podcast Clips](https://youtu.be/XHyASP49ses?t=111) da je problem sa Pytorch-om taj da nije baš prikladan za početnike - (treba pisati svoje training petlje, brinuti se o gradijentima i sl.); razvili su nekakav višeslojni API - [fast.ai](https://www.fast.ai/) - da olakša neke stvari.\n",
    "\n",
    "EDIT: što onda ja radim? Samo koristim nečiji algoritam, what's teh use?\n",
    "\n",
    "[fastai (docs)](https://docs.fast.ai/) simplifies training fast and accurate neural nets using modern best practices    \n",
    "The best way to get started with fastai (and deep learning) is to read the [book - notebooks on gh](https://github.com/fastai/fastbook), and complete the [free course](https://course.fast.ai/).\n",
    "\n",
    "- free course - [video - lesson 1](https://course.fast.ai/videos/?lesson=1)\n",
    "\n",
    "<br>\n",
    "\n",
    "<!-- ![pytorch install](install_pytorch.png) -->\n",
    "\n",
    "<br>\n",
    "\n",
    "- [Deep Learning: Advice on Getting Started with fast.ai - Jeremy Howard | AI Podcast Clips](https://www.youtube.com/watch?v=4CTDdxfSXF0) \n",
    "    - train a lot of models; not someone elses but my models\n",
    "    - fine tune models with my dataset\n",
    "    - study inputs and outputs\n",
    "    \n",
    "- logicno, kao u programiranju; cuo sam da je najbolje ici u nešto kad vidim da mi to nešto može pomoći u rješavanju problema koji već imam\n",
    "    - na projektu ove godine: Operacijska istraživanja, problem investiranja u pythonu pomocu linearnog programiranja, sam upao u još jedan zanimljiv rabbit hole;\n",
    "        - tu sam zapeo za python i data analysis\n",
    "        - + moguce je primjeniti ML\n",
    "    - prošle godine sam poćeo otkrivati AI na kolegiju: 'Sustavi temeljeni na znanju', dok sam radio seminar\n",
    "        - istraživanje mi je probudilo još jedan interes\n",
    "        - AlphaGo - youtube dokumentarac. odlican\n",
    "        - OpenAI; bolji od pro igrača igre dota 2\n",
    "        \n",
    "- pogledao sam lesson 1. nisam uvjeren. sa 3 linije koda napravi model koji prepoznaje mačku na slici, pa promjeni 1 broj i dobije skoro skrouz drugačiji program. Što ću s tim? Ionako mi je rečeno da mi treba pytorch..."
   ]
  },
  {
   "cell_type": "markdown",
   "metadata": {},
   "source": [
    "#### [pytorch, fcc](https://www.youtube.com/watch?v=GIsg-ZUy0MY) - youtube\n",
    "\n",
    "##### Basics: Tensors & gradients"
   ]
  },
  {
   "cell_type": "code",
   "execution_count": 18,
   "metadata": {},
   "outputs": [
    {
     "data": {
      "text/plain": [
       "tensor(4.)"
      ]
     },
     "execution_count": 18,
     "metadata": {},
     "output_type": "execute_result"
    }
   ],
   "source": [
    "import torch\n",
    "\n",
    "t1 = torch.tensor(4.)\n",
    "t1"
   ]
  },
  {
   "cell_type": "code",
   "execution_count": 19,
   "metadata": {},
   "outputs": [
    {
     "data": {
      "text/plain": [
       "torch.float32"
      ]
     },
     "execution_count": 19,
     "metadata": {},
     "output_type": "execute_result"
    }
   ],
   "source": [
    "t1.dtype"
   ]
  },
  {
   "cell_type": "code",
   "execution_count": 20,
   "metadata": {},
   "outputs": [
    {
     "data": {
      "text/plain": [
       "torch.Size([])"
      ]
     },
     "execution_count": 20,
     "metadata": {},
     "output_type": "execute_result"
    }
   ],
   "source": [
    "t1.shape"
   ]
  },
  {
   "cell_type": "code",
   "execution_count": 21,
   "metadata": {},
   "outputs": [
    {
     "data": {
      "text/plain": [
       "tensor([1., 2., 3.])"
      ]
     },
     "execution_count": 21,
     "metadata": {},
     "output_type": "execute_result"
    }
   ],
   "source": [
    "# vector\n",
    "t2 = torch.tensor([1., 2, 3])\n",
    "t2"
   ]
  },
  {
   "cell_type": "code",
   "execution_count": 22,
   "metadata": {},
   "outputs": [
    {
     "data": {
      "text/plain": [
       "tensor([[1., 2.],\n",
       "        [3., 4.],\n",
       "        [5., 6.]])"
      ]
     },
     "execution_count": 22,
     "metadata": {},
     "output_type": "execute_result"
    }
   ],
   "source": [
    "# matrix\n",
    "t3 = torch.tensor([[1, 2], [3., 4], [5, 6]])\n",
    "t3"
   ]
  },
  {
   "cell_type": "markdown",
   "metadata": {},
   "source": [
    "##### Tensor operations and gradients\n",
    "\n",
    "combine tensors with the usual arithmetic operations (kao numpy array?)"
   ]
  },
  {
   "cell_type": "code",
   "execution_count": 23,
   "metadata": {},
   "outputs": [
    {
     "name": "stdout",
     "output_type": "stream",
     "text": [
      "\n",
      "x =  tensor(3.) \n",
      "y =  tensor(4., requires_grad=True) \n",
      "b =  tensor(5., requires_grad=True)\n"
     ]
    },
    {
     "data": {
      "text/plain": [
       "tensor(12., grad_fn=<AddBackward0>)"
      ]
     },
     "execution_count": 23,
     "metadata": {},
     "output_type": "execute_result"
    }
   ],
   "source": [
    "x = torch.tensor(3.)\n",
    "y = torch.tensor(4., requires_grad = True)\n",
    "b = torch.tensor(5., requires_grad=True)\n",
    "\n",
    "print(\"\\nx = \", x, \"\\ny = \", y, \"\\nb = \", b)\n",
    "\n",
    "uh = x + y + b\n",
    "uh"
   ]
  },
  {
   "cell_type": "markdown",
   "metadata": {},
   "source": [
    "What makes pytorch special? not my words. can automatically compute the **derivative** (ej pa to sam učio prošlo ljeto. tko bi rekao) of y w.r.t (w.t.f) the tensors that have requires_grad set to True.\n",
    "\n",
    "derivacije su važne za optimizaciju jednog algoritma ha? e pa, mogli smo to učiti na matematici.?s\n",
    "\n",
    "gradient is another word for derivative??\n",
    "- gradijent je kad radim s matricom\n",
    "- derivativ (derivacija) s brojevima\n",
    "- istina?\n",
    "\n",
    "To compute it, call *.backward* method on result."
   ]
  },
  {
   "cell_type": "code",
   "execution_count": 24,
   "metadata": {},
   "outputs": [
    {
     "name": "stdout",
     "output_type": "stream",
     "text": [
      "None\n"
     ]
    }
   ],
   "source": [
    "print(uh.backward())"
   ]
  },
  {
   "cell_type": "markdown",
   "metadata": {},
   "source": [
    "![no NVIDIA](noo.png)"
   ]
  },
  {
   "cell_type": "code",
   "execution_count": 25,
   "metadata": {},
   "outputs": [
    {
     "name": "stdout",
     "output_type": "stream",
     "text": [
      "dy/dx: None\n",
      "dy/dw: tensor(1.)\n",
      "dy/db: tensor(1.)\n"
     ]
    }
   ],
   "source": [
    "print('dy/dx:', x.grad)\n",
    "print('dy/dw:', y.grad)\n",
    "print('dy/db:', b.grad)"
   ]
  },
  {
   "cell_type": "code",
   "execution_count": null,
   "metadata": {},
   "outputs": [],
   "source": []
  },
  {
   "cell_type": "markdown",
   "metadata": {},
   "source": [
    "##### Interoperability with numpy\n",
    "\n",
    "- matplotlib\n",
    "- openCV\n",
    "- pandas"
   ]
  },
  {
   "cell_type": "markdown",
   "metadata": {},
   "source": [
    "ma gle. koriste se graficke jer su optimizirane za operacije s matricama..."
   ]
  },
  {
   "cell_type": "code",
   "execution_count": null,
   "metadata": {},
   "outputs": [],
   "source": [
    "import matplotlib\n",
    "import matplotlib.pyplot as plt\n",
    "import numpy as np\n",
    "\n",
    "# Data for plotting\n",
    "t = np.arange(0, 20, 5)\n",
    "s = np.arange(0, 100, 25)\n",
    "\n",
    "fig, ax = plt.subplots()\n",
    "ax.plot(t, s)\n",
    "\n",
    "ax.set(xlabel='time (s)', ylabel='knoltage (k)',\n",
    "       title='About as simple as it gets, folks')\n",
    "ax.grid()\n",
    "\n",
    "#fig.savefig(\"test.png\")\n",
    "plt.show()\n",
    "plt.plot([20, 40, 60, 80, 100], [5, 10, 15, 20, 23])"
   ]
  },
  {
   "cell_type": "code",
   "execution_count": null,
   "metadata": {},
   "outputs": [],
   "source": []
  }
 ],
 "metadata": {
  "kernelspec": {
   "display_name": "Python 3",
   "language": "python",
   "name": "python3"
  },
  "language_info": {
   "codemirror_mode": {
    "name": "ipython",
    "version": 3
   },
   "file_extension": ".py",
   "mimetype": "text/x-python",
   "name": "python",
   "nbconvert_exporter": "python",
   "pygments_lexer": "ipython3",
   "version": "3.7.6"
  }
 },
 "nbformat": 4,
 "nbformat_minor": 4
}
